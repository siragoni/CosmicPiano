{
 "cells": [
  {
   "cell_type": "markdown",
   "id": "05599d40-2aa3-4cf6-a1b4-ef219806dbc3",
   "metadata": {},
   "source": [
    "# TOY GENERATOR OF COSMIC PIANO DATA"
   ]
  },
  {
   "cell_type": "code",
   "execution_count": 1,
   "id": "0c656fe2-892b-406e-8894-8e9cb9743147",
   "metadata": {},
   "outputs": [],
   "source": [
    "import pandas as pd\n",
    "import numpy as np\n",
    "import time\n",
    "\n",
    "def generate_module_events(rates, total_time, time_acceleration=1):\n",
    "    \"\"\"\n",
    "    Generates a DataFrame with random module numbers and timestamps.\n",
    "\n",
    "    Parameters:\n",
    "    rates (list of float): List of rates (in seconds) for each module (0 to 4).\n",
    "    total_time (int): Total time to run the generation (in seconds).\n",
    "    time_acceleration (float): Factor to accelerate the simulation time.\n",
    "\n",
    "    Returns:\n",
    "    pd.DataFrame: DataFrame with 'module' and 'timestamp' columns.\n",
    "    \"\"\"\n",
    "    # Ensure rates list has length of 5 (for modules 0 to 4)\n",
    "    assert len(rates) == 5, \"Rates list must contain 5 elements.\"\n",
    "\n",
    "    start_time = time.time()\n",
    "    events = []\n",
    "\n",
    "    while (time.time() - start_time) * time_acceleration < total_time:\n",
    "        current_time = time.time()\n",
    "        scaled_time = (current_time - start_time) * time_acceleration\n",
    "        \n",
    "        for module, rate in enumerate(rates):\n",
    "            if scaled_time % rate < 0.01:  # Check if it's time to generate an event for this module\n",
    "                events.append({\n",
    "                    'module': module,\n",
    "                    'timestamp': scaled_time\n",
    "                })\n",
    "                \n",
    "        time.sleep(0.01 / time_acceleration)  # Adjust sleep for time acceleration to avoid high CPU usage\n",
    "\n",
    "    df = pd.DataFrame(events)\n",
    "    return df\n"
   ]
  },
  {
   "cell_type": "code",
   "execution_count": 2,
   "id": "7298f835-72a8-4eb6-81ef-9250677872cd",
   "metadata": {},
   "outputs": [
    {
     "name": "stdout",
     "output_type": "stream",
     "text": [
      "     module     timestamp\n",
      "0         0   1127.004623\n",
      "1         4   1127.004623\n",
      "2         0   1405.000687\n",
      "3         3   1405.000687\n",
      "4         0   1410.007477\n",
      "..      ...           ...\n",
      "192       4  18893.003464\n",
      "193       0  19629.001617\n",
      "194       0  19634.008408\n",
      "195       2  19634.008408\n",
      "196       0  19701.004028\n",
      "\n",
      "[197 rows x 2 columns]\n"
     ]
    }
   ],
   "source": [
    "# Example usage:\n",
    "rates = [0.5, 10, 2, 5, 7]  # Rates for modules 0 to 4\n",
    "total_time = 20000  # Run the generation for 200 million seconds\n",
    "time_acceleration = 1e6  # Accelerate time by 1 million times\n",
    "df = generate_module_events(rates, total_time, time_acceleration)\n",
    "print(df)\n"
   ]
  },
  {
   "cell_type": "code",
   "execution_count": 3,
   "id": "a2500bcd-5481-4a3c-9b14-8fcc58d1d88f",
   "metadata": {},
   "outputs": [
    {
     "data": {
      "text/html": [
       "<div>\n",
       "<style scoped>\n",
       "    .dataframe tbody tr th:only-of-type {\n",
       "        vertical-align: middle;\n",
       "    }\n",
       "\n",
       "    .dataframe tbody tr th {\n",
       "        vertical-align: top;\n",
       "    }\n",
       "\n",
       "    .dataframe thead th {\n",
       "        text-align: right;\n",
       "    }\n",
       "</style>\n",
       "<table border=\"1\" class=\"dataframe\">\n",
       "  <thead>\n",
       "    <tr style=\"text-align: right;\">\n",
       "      <th></th>\n",
       "      <th>module</th>\n",
       "      <th>timestamp</th>\n",
       "    </tr>\n",
       "  </thead>\n",
       "  <tbody>\n",
       "    <tr>\n",
       "      <th>0</th>\n",
       "      <td>0</td>\n",
       "      <td>1127.004623</td>\n",
       "    </tr>\n",
       "    <tr>\n",
       "      <th>1</th>\n",
       "      <td>4</td>\n",
       "      <td>1127.004623</td>\n",
       "    </tr>\n",
       "    <tr>\n",
       "      <th>2</th>\n",
       "      <td>0</td>\n",
       "      <td>1405.000687</td>\n",
       "    </tr>\n",
       "    <tr>\n",
       "      <th>3</th>\n",
       "      <td>3</td>\n",
       "      <td>1405.000687</td>\n",
       "    </tr>\n",
       "    <tr>\n",
       "      <th>4</th>\n",
       "      <td>0</td>\n",
       "      <td>1410.007477</td>\n",
       "    </tr>\n",
       "    <tr>\n",
       "      <th>...</th>\n",
       "      <td>...</td>\n",
       "      <td>...</td>\n",
       "    </tr>\n",
       "    <tr>\n",
       "      <th>192</th>\n",
       "      <td>4</td>\n",
       "      <td>18893.003464</td>\n",
       "    </tr>\n",
       "    <tr>\n",
       "      <th>193</th>\n",
       "      <td>0</td>\n",
       "      <td>19629.001617</td>\n",
       "    </tr>\n",
       "    <tr>\n",
       "      <th>194</th>\n",
       "      <td>0</td>\n",
       "      <td>19634.008408</td>\n",
       "    </tr>\n",
       "    <tr>\n",
       "      <th>195</th>\n",
       "      <td>2</td>\n",
       "      <td>19634.008408</td>\n",
       "    </tr>\n",
       "    <tr>\n",
       "      <th>196</th>\n",
       "      <td>0</td>\n",
       "      <td>19701.004028</td>\n",
       "    </tr>\n",
       "  </tbody>\n",
       "</table>\n",
       "<p>197 rows × 2 columns</p>\n",
       "</div>"
      ],
      "text/plain": [
       "     module     timestamp\n",
       "0         0   1127.004623\n",
       "1         4   1127.004623\n",
       "2         0   1405.000687\n",
       "3         3   1405.000687\n",
       "4         0   1410.007477\n",
       "..      ...           ...\n",
       "192       4  18893.003464\n",
       "193       0  19629.001617\n",
       "194       0  19634.008408\n",
       "195       2  19634.008408\n",
       "196       0  19701.004028\n",
       "\n",
       "[197 rows x 2 columns]"
      ]
     },
     "execution_count": 3,
     "metadata": {},
     "output_type": "execute_result"
    }
   ],
   "source": [
    "df"
   ]
  },
  {
   "cell_type": "code",
   "execution_count": 4,
   "id": "07be564c-65c0-41b9-ad00-99abba1f3f34",
   "metadata": {},
   "outputs": [],
   "source": [
    "def save_dataframe_to_file(df, file_path):\n",
    "    \"\"\"\n",
    "    Saves the DataFrame to a file.\n",
    "\n",
    "    Parameters:\n",
    "    df (pd.DataFrame): The DataFrame to save.\n",
    "    file_path (str): The path to the file where the DataFrame will be saved.\n",
    "    \"\"\"\n",
    "    df.to_csv(file_path, index=False)\n",
    "    print(f\"DataFrame saved to {file_path}\")\n"
   ]
  },
  {
   "cell_type": "code",
   "execution_count": 5,
   "id": "8d6b7e35-54fa-4b23-93c4-f48acd2d2409",
   "metadata": {},
   "outputs": [
    {
     "name": "stdout",
     "output_type": "stream",
     "text": [
      "DataFrame saved to module_events.csv\n"
     ]
    }
   ],
   "source": [
    "# Save the DataFrame to a CSV file\n",
    "file_path = \"module_events.csv\"\n",
    "save_dataframe_to_file(df, file_path)\n"
   ]
  },
  {
   "cell_type": "markdown",
   "id": "d8f2cf91-db7c-416c-9cb5-153d574744b9",
   "metadata": {},
   "source": [
    "### Dataset with very similar rates"
   ]
  },
  {
   "cell_type": "code",
   "execution_count": 7,
   "id": "59f677fe-61cf-4dc4-9f2e-f60e3c6d8fb5",
   "metadata": {},
   "outputs": [
    {
     "name": "stdout",
     "output_type": "stream",
     "text": [
      "      module     timestamp\n",
      "0          0      0.953674\n",
      "1          1      0.953674\n",
      "2          2      0.953674\n",
      "3          3      0.953674\n",
      "4          4      0.953674\n",
      "...      ...           ...\n",
      "5015       0  19989.967346\n",
      "5016       1  19989.967346\n",
      "5017       2  19989.967346\n",
      "5018       3  19989.967346\n",
      "5019       4  19989.967346\n",
      "\n",
      "[5020 rows x 2 columns]\n",
      "DataFrame saved to module_events_similar_rates.csv\n"
     ]
    }
   ],
   "source": [
    "# Example usage:\n",
    "rates = [1.5, 0.8, 1.3, 1.2, 1.1]  # Rates for modules 0 to 4\n",
    "rates = [rate * 0.0001 for rate in rates]\n",
    "total_time = 20000  # Run the generation for 200 million seconds\n",
    "time_acceleration = 1e6  # Accelerate time by 1 million times\n",
    "df = generate_module_events(rates, total_time, time_acceleration)\n",
    "print(df)\n",
    "# Save the DataFrame to a CSV file\n",
    "file_path = \"module_events_similar_rates.csv\"\n",
    "save_dataframe_to_file(df, file_path)\n"
   ]
  },
  {
   "cell_type": "code",
   "execution_count": null,
   "id": "4c3ceaa3-1a87-4c63-991b-bbd7451103cb",
   "metadata": {},
   "outputs": [],
   "source": []
  }
 ],
 "metadata": {
  "kernelspec": {
   "display_name": "venv-HIVE",
   "language": "python",
   "name": "venv-hive"
  },
  "language_info": {
   "codemirror_mode": {
    "name": "ipython",
    "version": 3
   },
   "file_extension": ".py",
   "mimetype": "text/x-python",
   "name": "python",
   "nbconvert_exporter": "python",
   "pygments_lexer": "ipython3",
   "version": "3.12.4"
  }
 },
 "nbformat": 4,
 "nbformat_minor": 5
}
